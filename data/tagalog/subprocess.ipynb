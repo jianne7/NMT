{
 "cells": [
  {
   "cell_type": "code",
   "execution_count": 1,
   "id": "e6cdb6ce-340f-430d-bebd-c7a5d82b340a",
   "metadata": {},
   "outputs": [],
   "source": [
    "import subprocess\n",
    "import os\n",
    "import re\n",
    "\n",
    "import pandas as pd"
   ]
  },
  {
   "cell_type": "code",
   "execution_count": null,
   "id": "6603d29d-d954-48f7-8ee1-69b8a4aef693",
   "metadata": {},
   "outputs": [],
   "source": [
    "lang = [\"kor\", \"eng\", \"zho\", \"spa\", \"fra\", \"rus\", \"ind\", \"jpn\", \"vie\", \"deu\", \"ita\", \"hin\", \"ara\", \"por\"]\n",
    "\n",
    "f_list = []\n",
    "for l in lang:\n",
    "    output = subprocess.check_output(f\"mtdata list -l tgl-{l} | cut -f1\", shell=True, universal_newlines=True)\n",
    "    lines = output.split(\"\\n\")\n",
    "    f_name = []\n",
    "    for line in lines[:-1]:\n",
    "        f_name.append(line)\n",
    "    \n",
    "    f_list.append(f_name)"
   ]
  },
  {
   "cell_type": "code",
   "execution_count": null,
   "id": "8d60b1a9-eafc-4f91-a15a-3f2b0024745c",
   "metadata": {},
   "outputs": [],
   "source": [
    "for i in range(len(f_list)):\n",
    "    for f_name in f_list[i]:\n",
    "        file_dir = f\"/Users/ujinne/python/mtdata/data/{lang[i]}-tgl\"\n",
    "        if not os.path.isdir(file_dir):\n",
    "            os.makedirs(file_dir)\n",
    "        else:\n",
    "             print(f\"{file_dir} already exists\")\n",
    "        \n",
    "        subprocess.run(f\"mtdata get -l {lang[i]}-tgl --out {file_dir} --test {f_name}\", shell=True)"
   ]
  },
  {
   "cell_type": "code",
   "execution_count": null,
   "id": "bb7fe443-efc4-4c5e-a2e7-33832f306fcc",
   "metadata": {},
   "outputs": [],
   "source": []
  }
 ],
 "metadata": {
  "kernelspec": {
   "display_name": "Python 3.7.9 ('ujinne1')",
   "language": "python",
   "name": "python3"
  },
  "language_info": {
   "codemirror_mode": {
    "name": "ipython",
    "version": 3
   },
   "file_extension": ".py",
   "mimetype": "text/x-python",
   "name": "python",
   "nbconvert_exporter": "python",
   "pygments_lexer": "ipython3",
   "version": "3.7.9"
  },
  "vscode": {
   "interpreter": {
    "hash": "668f24439fcdfd7a3229550db6d445beee4b8e0bc6aa13e2f9e25cbf2cedb3a6"
   }
  }
 },
 "nbformat": 4,
 "nbformat_minor": 5
}
