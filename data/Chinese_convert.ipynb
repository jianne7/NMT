{
 "cells": [
  {
   "cell_type": "code",
   "execution_count": 2,
   "id": "perceived-spectacular",
   "metadata": {},
   "outputs": [
    {
     "name": "stdout",
     "output_type": "stream",
     "text": [
      "Collecting opencc\n",
      "  Downloading OpenCC-1.1.3-cp38-cp38-macosx_10_9_x86_64.whl (728 kB)\n",
      "\u001b[2K     \u001b[38;2;114;156;31m━━━━━━━━━━━━━━━━━━━━━━━━━━━━━━━━━━━━━━\u001b[0m \u001b[32m728.1/728.1 KB\u001b[0m \u001b[31m10.1 MB/s\u001b[0m eta \u001b[36m0:00:00\u001b[0m MB/s\u001b[0m eta \u001b[36m0:00:01\u001b[0m\n",
      "\u001b[?25hInstalling collected packages: opencc\n",
      "Successfully installed opencc-1.1.3\n"
     ]
    }
   ],
   "source": [
    "!pip install opencc"
   ]
  },
  {
   "cell_type": "code",
   "execution_count": 6,
   "id": "d7aa54ee-e733-4e6a-8e94-a236b9e150c4",
   "metadata": {},
   "outputs": [
    {
     "name": "stdout",
     "output_type": "stream",
     "text": [
      "Collecting openpyxl\n",
      "  Downloading openpyxl-3.0.9-py2.py3-none-any.whl (242 kB)\n",
      "\u001b[2K     \u001b[38;2;114;156;31m━━━━━━━━━━━━━━━━━━━━━━━━━━━━━━━━━━━━━━━\u001b[0m \u001b[32m242.2/242.2 KB\u001b[0m \u001b[31m4.3 MB/s\u001b[0m eta \u001b[36m0:00:00\u001b[0m[31m7.3 MB/s\u001b[0m eta \u001b[36m0:00:01\u001b[0m\n",
      "\u001b[?25hCollecting et-xmlfile\n",
      "  Using cached et_xmlfile-1.1.0-py3-none-any.whl (4.7 kB)\n",
      "Installing collected packages: et-xmlfile, openpyxl\n",
      "Successfully installed et-xmlfile-1.1.0 openpyxl-3.0.9\n"
     ]
    }
   ],
   "source": [
    "!pip install openpyxl"
   ]
  },
  {
   "cell_type": "code",
   "execution_count": 6,
   "id": "sonic-fitting",
   "metadata": {},
   "outputs": [
    {
     "name": "stdout",
     "output_type": "stream",
     "text": [
      "傅达仁今将执行安乐死，却突然爆出自己20年前遭纬来体育台封杀，他不懂自己哪里得罪到电视台。\n"
     ]
    }
   ],
   "source": [
    "from opencc import OpenCC\n",
    "\n",
    "# 번체 -> 간체\n",
    "cc = OpenCC(\"t2s\")\n",
    "text = \"傅達仁今將執行安樂死，卻突然爆出自己20年前遭緯來體育台封殺，他不懂自己哪裡得罪到電視台。\"\n",
    "\n",
    "print(cc.convert(text))"
   ]
  },
  {
   "cell_type": "code",
   "execution_count": 7,
   "id": "cbb9ba57-267c-45be-97a2-766e89ca539a",
   "metadata": {},
   "outputs": [
    {
     "name": "stdout",
     "output_type": "stream",
     "text": [
      "沒想到你是個老師吧。\n"
     ]
    }
   ],
   "source": [
    "# 간체 -> 번체\n",
    "cc = OpenCC(\"s2t\")\n",
    "text = \"没想到你是个老师吧。\"\n",
    "\n",
    "print(cc.convert(text))"
   ]
  },
  {
   "cell_type": "code",
   "execution_count": null,
   "id": "boring-lesson",
   "metadata": {},
   "outputs": [],
   "source": []
  }
 ],
 "metadata": {
  "kernelspec": {
   "display_name": "Python 3.7.9 ('ujinne1')",
   "language": "python",
   "name": "python3"
  },
  "language_info": {
   "codemirror_mode": {
    "name": "ipython",
    "version": 3
   },
   "file_extension": ".py",
   "mimetype": "text/x-python",
   "name": "python",
   "nbconvert_exporter": "python",
   "pygments_lexer": "ipython3",
   "version": "3.7.9"
  },
  "vscode": {
   "interpreter": {
    "hash": "668f24439fcdfd7a3229550db6d445beee4b8e0bc6aa13e2f9e25cbf2cedb3a6"
   }
  }
 },
 "nbformat": 4,
 "nbformat_minor": 5
}
