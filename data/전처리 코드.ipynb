{
 "cells": [
  {
   "cell_type": "code",
   "execution_count": 1,
   "id": "streaming-hydrogen",
   "metadata": {},
   "outputs": [],
   "source": [
    "import re\n",
    "\n",
    "# 동북 아시아\n",
    "ko = \"\\u3131-\\u3163|\\uac00-\\ud7af|\\u0041-\\u007a\"  # ko + en\n",
    "zh = \"\\u4e00-\\u62ff|\\u6300-\\u77ff|\\u7800-\\u8cff|\\u8d00-\\u9fff|\\u0041-\\u007a\"  # zh_cn + en\n",
    "ja = \"\\u3041-\\u3096|\\u30a0-\\u30ff|\\u3400-\\u4db5|\\u4e00-\\u9fcb|\\uf900-\\ufa6a|\\u0041-\\u007a\"  # ja + en\n",
    "\n",
    "# 러시아\n",
    "ru = \"\\u0410-\\u044f\"  # ru\n",
    "\n",
    "# 유럽 / 미국 (vi, de, pt, fr, id, es, it, en)\n",
    "for country in \"vi,de,pt,fr,id,es,it,en\".split(\",\"):\n",
    "    globals()[\n",
    "        f\"{country}\"\n",
    "    ] = \"\\u0041-\\u007a|\\u00c0-\\u0178|\\u1e00-\\u1eff|\\u0180-\\u024f|\\u1e00—\\u1eff|\\u0027\"\n",
    "\n",
    "# 인도\n",
    "hi = \"\\u0900-\\u097f|\\ua8e0-\\ua8ff\"  # hi (드 파나 가리어)\n",
    "\n",
    "# 아랍\n",
    "ar = \"\\u0627-\\u064a\"  # ar\n",
    "\n",
    "\n",
    "def clean_lng(sentence, unicode):\n",
    "    \"\"\"\n",
    "    문장 전처리 함수\n",
    "    문장과 해당 언어의 유니코드를 문자열로 넣으면 된다\n",
    "    \"\"\"\n",
    "    if type(sentence) == str:\n",
    "        p = re.compile(\n",
    "            fr\"\"\"\n",
    "        (\n",
    "        ((http|https)\\:\\/\\/)?            # http가 존재하거나 존재하지 않거나\n",
    "        [a-zA-Z0-9\\.\\-_]+\\.              # 웹주소 .kr 이전 까지만 선택\n",
    "        ([a-zA-Z]){2,6}                  # .kr, .org 등을 모두 선택\n",
    "        ([a-zA-Z0-9\\.\\&\\/\\?\\:@\\-_=#])*   # 파라미터 선택 / 이메일 선택\n",
    "        )|\n",
    "        (\n",
    "        \\([^)]*\\)                        # () 안에 내용까지 선택 (반각)    \n",
    "        )|\n",
    "        (\n",
    "        \\<[^>]*\\>                        # <> 안에 내용까지 선택 (반각)\n",
    "        )|\n",
    "        (\n",
    "        \\[[^\\]]*\\]                       # [] 안에 내용까지 선택 (반각)\n",
    "        )|\n",
    "        (\n",
    "        --[^-]*--                        # -- 내용 -- 내용까지 선택 (반각)\n",
    "        )|\n",
    "        (\n",
    "        \\u00ab[^\\u00bb]*\\u00bb           # <> 안에 내용까지 선택 (반각)\n",
    "        )|\n",
    "        (\n",
    "        \\uff1c[^\\uff1e]*\\uff1e           # < > 안에 내용까지 선택 (전각)\n",
    "        )|\n",
    "        (\n",
    "        \\ufe64[^\\ufe65]*\\ufe65           # << >> 안에 내용까지 선택 (전각)\n",
    "        )|\n",
    "        (\n",
    "        \\uff08[^\\uff09]*\\uff09           # () 안에 내용까지 선택 (전각)    \n",
    "        )|\n",
    "        (\n",
    "        \\ufe59[^\\ufe5a]*\\ufe5a            # () 안에 내용까지 선택 (전각) \n",
    "        )|\n",
    "        (\n",
    "        \\uff3b[^\\uff3d]*\\uff3d           # [] 안에 내용까지 선택 (전각)\n",
    "        )|\n",
    "        (                                \n",
    "        [^ {unicode}|  # 사용할 언어\n",
    "\n",
    "        0-9|0-9 /|0-9/|0-9 :|0-9:|       # 숫자와 숫자 뒤 /와 :는 선택에서 제외\n",
    "\n",
    "        ·|.|,|!|?|\"|\"|'|⸢|⸥|。|          # 포함할 특수문자 (반각)\n",
    "                                         # 포함할 특수문자 (전각) :\n",
    "        \\uff0e|\\ufe52|\\uff0c|\\ufe51|     # 마침표, 콤마, 느낌표,\n",
    "        \\ufe50|\\ufe57|\\uff01|\\ufe15|     # 물음표, 큰따옴표,\n",
    "        \\uff1f|\\ufe56|\\ufe16|\\uff02|     # 어퍼스트로피, 꺽새 (전각)\n",
    "        \\uff07|\\ufe41|\\ufe42|\\ufe43|\\ufe44]\n",
    "        )                               \n",
    "        \"\"\",\n",
    "            re.VERBOSE,\n",
    "        )\n",
    "        result = p.sub(\"\", sentence)\n",
    "    else:\n",
    "        result = \"\"\n",
    "    return result"
   ]
  },
  {
   "cell_type": "code",
   "execution_count": 25,
   "id": "furnished-emerald",
   "metadata": {},
   "outputs": [],
   "source": [
    "tgt = \"'안녕이라는 말대신(??)~' 노래 좋음!!\"\n",
    "clean = clean_lng(tgt, ko)"
   ]
  },
  {
   "cell_type": "code",
   "execution_count": 26,
   "id": "going-illustration",
   "metadata": {},
   "outputs": [
    {
     "data": {
      "text/plain": [
       "\"'안녕이라는 말대신' 노래 좋음!!\""
      ]
     },
     "execution_count": 26,
     "metadata": {},
     "output_type": "execute_result"
    }
   ],
   "source": [
    "clean"
   ]
  }
 ],
 "metadata": {
  "kernelspec": {
   "display_name": "Python 3.7.9 ('ujinne1')",
   "language": "python",
   "name": "python3"
  },
  "language_info": {
   "codemirror_mode": {
    "name": "ipython",
    "version": 3
   },
   "file_extension": ".py",
   "mimetype": "text/x-python",
   "name": "python",
   "nbconvert_exporter": "python",
   "pygments_lexer": "ipython3",
   "version": "3.7.9"
  },
  "toc": {
   "base_numbering": 1,
   "nav_menu": {},
   "number_sections": true,
   "sideBar": true,
   "skip_h1_title": false,
   "title_cell": "Table of Contents",
   "title_sidebar": "Contents",
   "toc_cell": false,
   "toc_position": {},
   "toc_section_display": true,
   "toc_window_display": false
  },
  "varInspector": {
   "cols": {
    "lenName": 16,
    "lenType": 16,
    "lenVar": 40
   },
   "kernels_config": {
    "python": {
     "delete_cmd_postfix": "",
     "delete_cmd_prefix": "del ",
     "library": "var_list.py",
     "varRefreshCmd": "print(var_dic_list())"
    },
    "r": {
     "delete_cmd_postfix": ") ",
     "delete_cmd_prefix": "rm(",
     "library": "var_list.r",
     "varRefreshCmd": "cat(var_dic_list()) "
    }
   },
   "types_to_exclude": [
    "module",
    "function",
    "builtin_function_or_method",
    "instance",
    "_Feature"
   ],
   "window_display": false
  },
  "vscode": {
   "interpreter": {
    "hash": "668f24439fcdfd7a3229550db6d445beee4b8e0bc6aa13e2f9e25cbf2cedb3a6"
   }
  }
 },
 "nbformat": 4,
 "nbformat_minor": 5
}
